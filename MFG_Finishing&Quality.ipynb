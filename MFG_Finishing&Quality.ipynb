{
 "cells": [
  {
   "cell_type": "markdown",
   "id": "ef064b9f-48dc-4993-abf6-c033526bf64b",
   "metadata": {},
   "source": [
    "# Predicting Operational Efficiency of Manufacturing Teams - Finishing & Quality"
   ]
  },
  {
   "cell_type": "code",
   "execution_count": 1,
   "id": "290a08ce-f1ea-45b5-9900-836f5628b883",
   "metadata": {},
   "outputs": [],
   "source": [
    "import pandas as pd\n",
    "import numpy as np\n",
    "import matplotlib.pyplot as plt\n",
    "import seaborn as sns\n",
    "import warnings\n",
    "warnings.filterwarnings('ignore')"
   ]
  },
  {
   "cell_type": "code",
   "execution_count": 2,
   "id": "e0dca9f0-253b-45ad-833b-0771e216771c",
   "metadata": {},
   "outputs": [],
   "source": [
    "df = pd.read_csv('manufacturing_data.csv')"
   ]
  },
  {
   "cell_type": "code",
   "execution_count": 3,
   "id": "fc917ef4-e0ff-49e3-9280-cc52312e5de8",
   "metadata": {},
   "outputs": [],
   "source": [
    "df['productionDept'] = df['productionDept'].str.strip()"
   ]
  },
  {
   "cell_type": "code",
   "execution_count": 4,
   "id": "00a0c795-347a-4ecf-bf0f-f880bdbac0e0",
   "metadata": {},
   "outputs": [
    {
     "name": "stdout",
     "output_type": "stream",
     "text": [
      "productionDept\n",
      "Stitching Unit         691\n",
      "Finishing & Quality    506\n",
      "Name: count, dtype: int64\n"
     ]
    }
   ],
   "source": [
    "print(df['productionDept'].value_counts())"
   ]
  },
  {
   "cell_type": "markdown",
   "id": "056f85ef-b5bf-47bf-bed3-ec8b921f1106",
   "metadata": {},
   "source": [
    "### Split the DataFrames"
   ]
  },
  {
   "cell_type": "code",
   "execution_count": 5,
   "id": "301ebbdf-e1bd-47db-9975-347bcc651258",
   "metadata": {},
   "outputs": [],
   "source": [
    "finishing_df = df[df['productionDept'] == \"Finishing & Quality\"].copy()"
   ]
  },
  {
   "cell_type": "code",
   "execution_count": 6,
   "id": "8e421ce5-80a3-4a29-9e76-53df0fbd68be",
   "metadata": {},
   "outputs": [],
   "source": [
    "# Drop the workInProgress column since it has only NaN values\n",
    "finishing_df = finishing_df.drop(columns=['workInProgress'])"
   ]
  },
  {
   "cell_type": "code",
   "execution_count": 7,
   "id": "25406a01-56d1-4035-b8a3-69cab2fb44a6",
   "metadata": {},
   "outputs": [
    {
     "data": {
      "text/html": [
       "<div>\n",
       "<style scoped>\n",
       "    .dataframe tbody tr th:only-of-type {\n",
       "        vertical-align: middle;\n",
       "    }\n",
       "\n",
       "    .dataframe tbody tr th {\n",
       "        vertical-align: top;\n",
       "    }\n",
       "\n",
       "    .dataframe thead th {\n",
       "        text-align: right;\n",
       "    }\n",
       "</style>\n",
       "<table border=\"1\" class=\"dataframe\">\n",
       "  <thead>\n",
       "    <tr style=\"text-align: right;\">\n",
       "      <th></th>\n",
       "      <th>recordDate</th>\n",
       "      <th>fiscalQuarter</th>\n",
       "      <th>productionDept</th>\n",
       "      <th>dayOfWeek</th>\n",
       "      <th>team</th>\n",
       "      <th>plannedEfficiency</th>\n",
       "      <th>standardMinuteValue</th>\n",
       "      <th>overtimeMinutes</th>\n",
       "      <th>performanceBonus</th>\n",
       "      <th>idleMinutes</th>\n",
       "      <th>idleWorkers</th>\n",
       "      <th>styleChangeCount</th>\n",
       "      <th>workerCount</th>\n",
       "      <th>efficiencyScore</th>\n",
       "    </tr>\n",
       "  </thead>\n",
       "  <tbody>\n",
       "    <tr>\n",
       "      <th>2</th>\n",
       "      <td>1/6/2015</td>\n",
       "      <td>Q1</td>\n",
       "      <td>Finishing &amp; Quality</td>\n",
       "      <td>Tuesday</td>\n",
       "      <td>Line-C2</td>\n",
       "      <td>0.8</td>\n",
       "      <td>2.90</td>\n",
       "      <td>1440</td>\n",
       "      <td>0</td>\n",
       "      <td>0.0</td>\n",
       "      <td>0</td>\n",
       "      <td>No Style Change</td>\n",
       "      <td>8.0</td>\n",
       "      <td>0.681061</td>\n",
       "    </tr>\n",
       "    <tr>\n",
       "      <th>3</th>\n",
       "      <td>2/24/2015</td>\n",
       "      <td>Q4</td>\n",
       "      <td>Finishing &amp; Quality</td>\n",
       "      <td>Tuesday</td>\n",
       "      <td>Line-S2</td>\n",
       "      <td>0.7</td>\n",
       "      <td>3.90</td>\n",
       "      <td>960</td>\n",
       "      <td>0</td>\n",
       "      <td>0.0</td>\n",
       "      <td>0</td>\n",
       "      <td>No Style Change</td>\n",
       "      <td>8.0</td>\n",
       "      <td>0.325000</td>\n",
       "    </tr>\n",
       "    <tr>\n",
       "      <th>4</th>\n",
       "      <td>1/4/2015</td>\n",
       "      <td>Q1</td>\n",
       "      <td>Finishing &amp; Quality</td>\n",
       "      <td>Sunday</td>\n",
       "      <td>Line-C1</td>\n",
       "      <td>0.8</td>\n",
       "      <td>2.90</td>\n",
       "      <td>960</td>\n",
       "      <td>0</td>\n",
       "      <td>0.0</td>\n",
       "      <td>0</td>\n",
       "      <td>No Style Change</td>\n",
       "      <td>8.0</td>\n",
       "      <td>0.667604</td>\n",
       "    </tr>\n",
       "    <tr>\n",
       "      <th>6</th>\n",
       "      <td>2/26/2015</td>\n",
       "      <td>Q4</td>\n",
       "      <td>Finishing &amp; Quality</td>\n",
       "      <td>Thursday</td>\n",
       "      <td>Line-S1</td>\n",
       "      <td>0.5</td>\n",
       "      <td>3.94</td>\n",
       "      <td>3360</td>\n",
       "      <td>0</td>\n",
       "      <td>0.0</td>\n",
       "      <td>0</td>\n",
       "      <td>No Style Change</td>\n",
       "      <td>8.0</td>\n",
       "      <td>0.768847</td>\n",
       "    </tr>\n",
       "    <tr>\n",
       "      <th>7</th>\n",
       "      <td>2/28/2015</td>\n",
       "      <td>Q4</td>\n",
       "      <td>Finishing &amp; Quality</td>\n",
       "      <td>Saturday</td>\n",
       "      <td>Line-S1</td>\n",
       "      <td>0.5</td>\n",
       "      <td>3.94</td>\n",
       "      <td>3360</td>\n",
       "      <td>0</td>\n",
       "      <td>0.0</td>\n",
       "      <td>0</td>\n",
       "      <td>No Style Change</td>\n",
       "      <td>8.0</td>\n",
       "      <td>0.768847</td>\n",
       "    </tr>\n",
       "  </tbody>\n",
       "</table>\n",
       "</div>"
      ],
      "text/plain": [
       "  recordDate fiscalQuarter       productionDept dayOfWeek     team  \\\n",
       "2   1/6/2015            Q1  Finishing & Quality   Tuesday  Line-C2   \n",
       "3  2/24/2015            Q4  Finishing & Quality   Tuesday  Line-S2   \n",
       "4   1/4/2015            Q1  Finishing & Quality    Sunday  Line-C1   \n",
       "6  2/26/2015            Q4  Finishing & Quality  Thursday  Line-S1   \n",
       "7  2/28/2015            Q4  Finishing & Quality  Saturday  Line-S1   \n",
       "\n",
       "   plannedEfficiency  standardMinuteValue  overtimeMinutes  performanceBonus  \\\n",
       "2                0.8                 2.90             1440                 0   \n",
       "3                0.7                 3.90              960                 0   \n",
       "4                0.8                 2.90              960                 0   \n",
       "6                0.5                 3.94             3360                 0   \n",
       "7                0.5                 3.94             3360                 0   \n",
       "\n",
       "   idleMinutes  idleWorkers styleChangeCount  workerCount  efficiencyScore  \n",
       "2          0.0            0  No Style Change          8.0         0.681061  \n",
       "3          0.0            0  No Style Change          8.0         0.325000  \n",
       "4          0.0            0  No Style Change          8.0         0.667604  \n",
       "6          0.0            0  No Style Change          8.0         0.768847  \n",
       "7          0.0            0  No Style Change          8.0         0.768847  "
      ]
     },
     "execution_count": 7,
     "metadata": {},
     "output_type": "execute_result"
    }
   ],
   "source": [
    "finishing_df.head()"
   ]
  },
  {
   "cell_type": "code",
   "execution_count": 8,
   "id": "29f29145-100e-4a25-8e38-4598e26edde1",
   "metadata": {},
   "outputs": [
    {
     "data": {
      "text/html": [
       "<div>\n",
       "<style scoped>\n",
       "    .dataframe tbody tr th:only-of-type {\n",
       "        vertical-align: middle;\n",
       "    }\n",
       "\n",
       "    .dataframe tbody tr th {\n",
       "        vertical-align: top;\n",
       "    }\n",
       "\n",
       "    .dataframe thead th {\n",
       "        text-align: right;\n",
       "    }\n",
       "</style>\n",
       "<table border=\"1\" class=\"dataframe\">\n",
       "  <thead>\n",
       "    <tr style=\"text-align: right;\">\n",
       "      <th></th>\n",
       "      <th>recordDate</th>\n",
       "      <th>fiscalQuarter</th>\n",
       "      <th>productionDept</th>\n",
       "      <th>dayOfWeek</th>\n",
       "      <th>team</th>\n",
       "      <th>plannedEfficiency</th>\n",
       "      <th>standardMinuteValue</th>\n",
       "      <th>overtimeMinutes</th>\n",
       "      <th>performanceBonus</th>\n",
       "      <th>idleMinutes</th>\n",
       "      <th>idleWorkers</th>\n",
       "      <th>styleChangeCount</th>\n",
       "      <th>workerCount</th>\n",
       "      <th>efficiencyScore</th>\n",
       "    </tr>\n",
       "  </thead>\n",
       "  <tbody>\n",
       "    <tr>\n",
       "      <th>1190</th>\n",
       "      <td>1/27/2015</td>\n",
       "      <td>Q4</td>\n",
       "      <td>Finishing &amp; Quality</td>\n",
       "      <td>Tuesday</td>\n",
       "      <td>Line-C1</td>\n",
       "      <td>0.5</td>\n",
       "      <td>4.15</td>\n",
       "      <td>960</td>\n",
       "      <td>0</td>\n",
       "      <td>0.0</td>\n",
       "      <td>0</td>\n",
       "      <td>No Style Change</td>\n",
       "      <td>8.0</td>\n",
       "      <td>0.803542</td>\n",
       "    </tr>\n",
       "    <tr>\n",
       "      <th>1192</th>\n",
       "      <td>3/3/2015</td>\n",
       "      <td>Q1</td>\n",
       "      <td>Finishing &amp; Quality</td>\n",
       "      <td>Tuesday</td>\n",
       "      <td>Line-F2</td>\n",
       "      <td>0.7</td>\n",
       "      <td>4.60</td>\n",
       "      <td>3360</td>\n",
       "      <td>0</td>\n",
       "      <td>0.0</td>\n",
       "      <td>0</td>\n",
       "      <td>No Style Change</td>\n",
       "      <td>8.0</td>\n",
       "      <td>0.354444</td>\n",
       "    </tr>\n",
       "    <tr>\n",
       "      <th>1193</th>\n",
       "      <td>3/7/2015</td>\n",
       "      <td>Q1</td>\n",
       "      <td>Finishing &amp; Quality</td>\n",
       "      <td>Saturday</td>\n",
       "      <td>Line-F3</td>\n",
       "      <td>0.5</td>\n",
       "      <td>2.90</td>\n",
       "      <td>960</td>\n",
       "      <td>0</td>\n",
       "      <td>0.0</td>\n",
       "      <td>0</td>\n",
       "      <td>No Style Change</td>\n",
       "      <td>8.0</td>\n",
       "      <td>0.797500</td>\n",
       "    </tr>\n",
       "    <tr>\n",
       "      <th>1194</th>\n",
       "      <td>3/9/2015</td>\n",
       "      <td>Q2</td>\n",
       "      <td>Finishing &amp; Quality</td>\n",
       "      <td>Monday</td>\n",
       "      <td>Line-F2</td>\n",
       "      <td>0.6</td>\n",
       "      <td>3.94</td>\n",
       "      <td>0</td>\n",
       "      <td>2880</td>\n",
       "      <td>0.0</td>\n",
       "      <td>0</td>\n",
       "      <td>No Style Change</td>\n",
       "      <td>12.0</td>\n",
       "      <td>0.864343</td>\n",
       "    </tr>\n",
       "    <tr>\n",
       "      <th>1196</th>\n",
       "      <td>3/8/2015</td>\n",
       "      <td>Q2</td>\n",
       "      <td>Finishing &amp; Quality</td>\n",
       "      <td>Sunday</td>\n",
       "      <td>Line-Q2</td>\n",
       "      <td>0.7</td>\n",
       "      <td>2.90</td>\n",
       "      <td>960</td>\n",
       "      <td>0</td>\n",
       "      <td>0.0</td>\n",
       "      <td>0</td>\n",
       "      <td>No Style Change</td>\n",
       "      <td>8.0</td>\n",
       "      <td>0.441042</td>\n",
       "    </tr>\n",
       "  </tbody>\n",
       "</table>\n",
       "</div>"
      ],
      "text/plain": [
       "     recordDate fiscalQuarter       productionDept dayOfWeek     team  \\\n",
       "1190  1/27/2015            Q4  Finishing & Quality   Tuesday  Line-C1   \n",
       "1192   3/3/2015            Q1  Finishing & Quality   Tuesday  Line-F2   \n",
       "1193   3/7/2015            Q1  Finishing & Quality  Saturday  Line-F3   \n",
       "1194   3/9/2015            Q2  Finishing & Quality    Monday  Line-F2   \n",
       "1196   3/8/2015            Q2  Finishing & Quality    Sunday  Line-Q2   \n",
       "\n",
       "      plannedEfficiency  standardMinuteValue  overtimeMinutes  \\\n",
       "1190                0.5                 4.15              960   \n",
       "1192                0.7                 4.60             3360   \n",
       "1193                0.5                 2.90              960   \n",
       "1194                0.6                 3.94                0   \n",
       "1196                0.7                 2.90              960   \n",
       "\n",
       "      performanceBonus  idleMinutes  idleWorkers styleChangeCount  \\\n",
       "1190                 0          0.0            0  No Style Change   \n",
       "1192                 0          0.0            0  No Style Change   \n",
       "1193                 0          0.0            0  No Style Change   \n",
       "1194              2880          0.0            0  No Style Change   \n",
       "1196                 0          0.0            0  No Style Change   \n",
       "\n",
       "      workerCount  efficiencyScore  \n",
       "1190          8.0         0.803542  \n",
       "1192          8.0         0.354444  \n",
       "1193          8.0         0.797500  \n",
       "1194         12.0         0.864343  \n",
       "1196          8.0         0.441042  "
      ]
     },
     "execution_count": 8,
     "metadata": {},
     "output_type": "execute_result"
    }
   ],
   "source": [
    "finishing_df.tail()"
   ]
  },
  {
   "cell_type": "code",
   "execution_count": 9,
   "id": "9e25e821-6a0d-4341-8bc0-128da6a26ba6",
   "metadata": {},
   "outputs": [
    {
     "data": {
      "text/plain": [
       "(506, 14)"
      ]
     },
     "execution_count": 9,
     "metadata": {},
     "output_type": "execute_result"
    }
   ],
   "source": [
    "finishing_df.shape"
   ]
  },
  {
   "cell_type": "code",
   "execution_count": 10,
   "id": "1fac2740-80b5-48f8-9ce5-d0d06ff4865f",
   "metadata": {},
   "outputs": [
    {
     "name": "stdout",
     "output_type": "stream",
     "text": [
      "productionDept\n",
      "Finishing & Quality    506\n",
      "Name: count, dtype: int64\n"
     ]
    }
   ],
   "source": [
    "print(finishing_df['productionDept'].value_counts())"
   ]
  },
  {
   "cell_type": "code",
   "execution_count": 11,
   "id": "d8f21f5e-175a-4087-bf80-0c4ab883fe89",
   "metadata": {},
   "outputs": [
    {
     "data": {
      "text/plain": [
       "recordDate             0\n",
       "fiscalQuarter          0\n",
       "productionDept         0\n",
       "dayOfWeek              0\n",
       "team                   0\n",
       "plannedEfficiency      0\n",
       "standardMinuteValue    0\n",
       "overtimeMinutes        0\n",
       "performanceBonus       0\n",
       "idleMinutes            0\n",
       "idleWorkers            0\n",
       "styleChangeCount       0\n",
       "workerCount            0\n",
       "efficiencyScore        0\n",
       "dtype: int64"
      ]
     },
     "execution_count": 11,
     "metadata": {},
     "output_type": "execute_result"
    }
   ],
   "source": [
    "finishing_df.isnull().sum()"
   ]
  },
  {
   "cell_type": "code",
   "execution_count": 12,
   "id": "5156b502-c7a2-40f5-9b17-a603b5133949",
   "metadata": {},
   "outputs": [
    {
     "data": {
      "text/html": [
       "<div>\n",
       "<style scoped>\n",
       "    .dataframe tbody tr th:only-of-type {\n",
       "        vertical-align: middle;\n",
       "    }\n",
       "\n",
       "    .dataframe tbody tr th {\n",
       "        vertical-align: top;\n",
       "    }\n",
       "\n",
       "    .dataframe thead th {\n",
       "        text-align: right;\n",
       "    }\n",
       "</style>\n",
       "<table border=\"1\" class=\"dataframe\">\n",
       "  <thead>\n",
       "    <tr style=\"text-align: right;\">\n",
       "      <th></th>\n",
       "      <th>plannedEfficiency</th>\n",
       "      <th>standardMinuteValue</th>\n",
       "      <th>overtimeMinutes</th>\n",
       "      <th>performanceBonus</th>\n",
       "      <th>idleMinutes</th>\n",
       "      <th>idleWorkers</th>\n",
       "      <th>workerCount</th>\n",
       "      <th>efficiencyScore</th>\n",
       "    </tr>\n",
       "  </thead>\n",
       "  <tbody>\n",
       "    <tr>\n",
       "      <th>count</th>\n",
       "      <td>506.000000</td>\n",
       "      <td>506.000000</td>\n",
       "      <td>506.000000</td>\n",
       "      <td>506.000000</td>\n",
       "      <td>506.0</td>\n",
       "      <td>506.0</td>\n",
       "      <td>506.000000</td>\n",
       "      <td>506.000000</td>\n",
       "    </tr>\n",
       "    <tr>\n",
       "      <th>mean</th>\n",
       "      <td>0.737352</td>\n",
       "      <td>3.887036</td>\n",
       "      <td>1917.154150</td>\n",
       "      <td>29.644269</td>\n",
       "      <td>0.0</td>\n",
       "      <td>0.0</td>\n",
       "      <td>10.252964</td>\n",
       "      <td>0.752951</td>\n",
       "    </tr>\n",
       "    <tr>\n",
       "      <th>std</th>\n",
       "      <td>0.091512</td>\n",
       "      <td>0.594110</td>\n",
       "      <td>1776.698408</td>\n",
       "      <td>244.130042</td>\n",
       "      <td>0.0</td>\n",
       "      <td>0.0</td>\n",
       "      <td>4.007819</td>\n",
       "      <td>0.197021</td>\n",
       "    </tr>\n",
       "    <tr>\n",
       "      <th>min</th>\n",
       "      <td>0.350000</td>\n",
       "      <td>2.900000</td>\n",
       "      <td>0.000000</td>\n",
       "      <td>0.000000</td>\n",
       "      <td>0.0</td>\n",
       "      <td>0.0</td>\n",
       "      <td>2.000000</td>\n",
       "      <td>0.235795</td>\n",
       "    </tr>\n",
       "    <tr>\n",
       "      <th>25%</th>\n",
       "      <td>0.700000</td>\n",
       "      <td>3.900000</td>\n",
       "      <td>960.000000</td>\n",
       "      <td>0.000000</td>\n",
       "      <td>0.0</td>\n",
       "      <td>0.0</td>\n",
       "      <td>8.000000</td>\n",
       "      <td>0.631606</td>\n",
       "    </tr>\n",
       "    <tr>\n",
       "      <th>50%</th>\n",
       "      <td>0.750000</td>\n",
       "      <td>3.940000</td>\n",
       "      <td>1440.000000</td>\n",
       "      <td>0.000000</td>\n",
       "      <td>0.0</td>\n",
       "      <td>0.0</td>\n",
       "      <td>8.000000</td>\n",
       "      <td>0.805909</td>\n",
       "    </tr>\n",
       "    <tr>\n",
       "      <th>75%</th>\n",
       "      <td>0.800000</td>\n",
       "      <td>4.150000</td>\n",
       "      <td>1920.000000</td>\n",
       "      <td>0.000000</td>\n",
       "      <td>0.0</td>\n",
       "      <td>0.0</td>\n",
       "      <td>11.750000</td>\n",
       "      <td>0.906364</td>\n",
       "    </tr>\n",
       "    <tr>\n",
       "      <th>max</th>\n",
       "      <td>0.800000</td>\n",
       "      <td>5.130000</td>\n",
       "      <td>15000.000000</td>\n",
       "      <td>3600.000000</td>\n",
       "      <td>0.0</td>\n",
       "      <td>0.0</td>\n",
       "      <td>28.000000</td>\n",
       "      <td>1.120437</td>\n",
       "    </tr>\n",
       "  </tbody>\n",
       "</table>\n",
       "</div>"
      ],
      "text/plain": [
       "       plannedEfficiency  standardMinuteValue  overtimeMinutes  \\\n",
       "count         506.000000           506.000000       506.000000   \n",
       "mean            0.737352             3.887036      1917.154150   \n",
       "std             0.091512             0.594110      1776.698408   \n",
       "min             0.350000             2.900000         0.000000   \n",
       "25%             0.700000             3.900000       960.000000   \n",
       "50%             0.750000             3.940000      1440.000000   \n",
       "75%             0.800000             4.150000      1920.000000   \n",
       "max             0.800000             5.130000     15000.000000   \n",
       "\n",
       "       performanceBonus  idleMinutes  idleWorkers  workerCount  \\\n",
       "count        506.000000        506.0        506.0   506.000000   \n",
       "mean          29.644269          0.0          0.0    10.252964   \n",
       "std          244.130042          0.0          0.0     4.007819   \n",
       "min            0.000000          0.0          0.0     2.000000   \n",
       "25%            0.000000          0.0          0.0     8.000000   \n",
       "50%            0.000000          0.0          0.0     8.000000   \n",
       "75%            0.000000          0.0          0.0    11.750000   \n",
       "max         3600.000000          0.0          0.0    28.000000   \n",
       "\n",
       "       efficiencyScore  \n",
       "count       506.000000  \n",
       "mean          0.752951  \n",
       "std           0.197021  \n",
       "min           0.235795  \n",
       "25%           0.631606  \n",
       "50%           0.805909  \n",
       "75%           0.906364  \n",
       "max           1.120437  "
      ]
     },
     "execution_count": 12,
     "metadata": {},
     "output_type": "execute_result"
    }
   ],
   "source": [
    "finishing_df.describe()"
   ]
  },
  {
   "cell_type": "code",
   "execution_count": 13,
   "id": "53a110a4-ab51-4cdd-b65a-aa9d66d6c1fc",
   "metadata": {},
   "outputs": [
    {
     "name": "stdout",
     "output_type": "stream",
     "text": [
      "<class 'pandas.core.frame.DataFrame'>\n",
      "Index: 506 entries, 2 to 1196\n",
      "Data columns (total 14 columns):\n",
      " #   Column               Non-Null Count  Dtype  \n",
      "---  ------               --------------  -----  \n",
      " 0   recordDate           506 non-null    object \n",
      " 1   fiscalQuarter        506 non-null    object \n",
      " 2   productionDept       506 non-null    object \n",
      " 3   dayOfWeek            506 non-null    object \n",
      " 4   team                 506 non-null    object \n",
      " 5   plannedEfficiency    506 non-null    float64\n",
      " 6   standardMinuteValue  506 non-null    float64\n",
      " 7   overtimeMinutes      506 non-null    int64  \n",
      " 8   performanceBonus     506 non-null    int64  \n",
      " 9   idleMinutes          506 non-null    float64\n",
      " 10  idleWorkers          506 non-null    int64  \n",
      " 11  styleChangeCount     506 non-null    object \n",
      " 12  workerCount          506 non-null    float64\n",
      " 13  efficiencyScore      506 non-null    float64\n",
      "dtypes: float64(5), int64(3), object(6)\n",
      "memory usage: 59.3+ KB\n"
     ]
    }
   ],
   "source": [
    "finishing_df.info()"
   ]
  },
  {
   "cell_type": "markdown",
   "id": "049cda32-05e0-4ceb-945c-032a46b36582",
   "metadata": {},
   "source": [
    "## Data Preprocessing"
   ]
  },
  {
   "cell_type": "markdown",
   "id": "1312bfb5-0ea7-49ee-b02b-f788b71a8911",
   "metadata": {},
   "source": [
    "#### Extract month from recordDate and drop recordDate: Since all years are the same and the exact date is not meaningful, we will extract the month from the recordDate column to provide temporal context, then drop the original date column."
   ]
  },
  {
   "cell_type": "code",
   "execution_count": 14,
   "id": "d7314d35-1c09-4728-b3ac-28183dc8caae",
   "metadata": {},
   "outputs": [],
   "source": [
    "finishing_df['month'] = pd.to_datetime(finishing_df['recordDate']).dt.month"
   ]
  },
  {
   "cell_type": "markdown",
   "id": "335b180a-6b5d-48bc-8833-9ea220b7a055",
   "metadata": {},
   "source": [
    "#### Drop fiscalQuarter: The fiscalQuarter column contains values from Q1 to Q5, but the records cover only three months, making these quarter assignments unreliable or irrelevant for modeling.\n",
    "#### Drop productionDept: Each subset (Stitching or Finishing) contains only one unique value for productionDept, so it does not provide any discriminative information."
   ]
  },
  {
   "cell_type": "code",
   "execution_count": 15,
   "id": "30e0f8f7-72d8-46d5-baf1-8f7cc2cae119",
   "metadata": {},
   "outputs": [],
   "source": [
    "finishing_df = finishing_df.drop(columns=['fiscalQuarter', 'productionDept', 'recordDate'])"
   ]
  },
  {
   "cell_type": "markdown",
   "id": "d33e9697-c975-44b9-b099-b8482bca428d",
   "metadata": {},
   "source": [
    "#### Lable encoded teams: No. of teams is large and have many different values."
   ]
  },
  {
   "cell_type": "code",
   "execution_count": 16,
   "id": "fb83eff8-69a8-4370-b732-39c2b04e0ba4",
   "metadata": {},
   "outputs": [],
   "source": [
    "from sklearn.preprocessing import LabelEncoder\n",
    "\n",
    "finishing_df['team_enc'] = LabelEncoder().fit_transform(finishing_df['team'])"
   ]
  },
  {
   "cell_type": "code",
   "execution_count": 17,
   "id": "44d97db2-408c-4b6a-82a7-b3cade275c2e",
   "metadata": {},
   "outputs": [
    {
     "data": {
      "text/html": [
       "<div>\n",
       "<style scoped>\n",
       "    .dataframe tbody tr th:only-of-type {\n",
       "        vertical-align: middle;\n",
       "    }\n",
       "\n",
       "    .dataframe tbody tr th {\n",
       "        vertical-align: top;\n",
       "    }\n",
       "\n",
       "    .dataframe thead th {\n",
       "        text-align: right;\n",
       "    }\n",
       "</style>\n",
       "<table border=\"1\" class=\"dataframe\">\n",
       "  <thead>\n",
       "    <tr style=\"text-align: right;\">\n",
       "      <th></th>\n",
       "      <th>team</th>\n",
       "      <th>team_enc</th>\n",
       "    </tr>\n",
       "  </thead>\n",
       "  <tbody>\n",
       "    <tr>\n",
       "      <th>2</th>\n",
       "      <td>Line-C2</td>\n",
       "      <td>1</td>\n",
       "    </tr>\n",
       "    <tr>\n",
       "      <th>3</th>\n",
       "      <td>Line-S2</td>\n",
       "      <td>10</td>\n",
       "    </tr>\n",
       "    <tr>\n",
       "      <th>4</th>\n",
       "      <td>Line-C1</td>\n",
       "      <td>0</td>\n",
       "    </tr>\n",
       "    <tr>\n",
       "      <th>6</th>\n",
       "      <td>Line-S1</td>\n",
       "      <td>9</td>\n",
       "    </tr>\n",
       "    <tr>\n",
       "      <th>7</th>\n",
       "      <td>Line-S1</td>\n",
       "      <td>9</td>\n",
       "    </tr>\n",
       "  </tbody>\n",
       "</table>\n",
       "</div>"
      ],
      "text/plain": [
       "      team  team_enc\n",
       "2  Line-C2         1\n",
       "3  Line-S2        10\n",
       "4  Line-C1         0\n",
       "6  Line-S1         9\n",
       "7  Line-S1         9"
      ]
     },
     "execution_count": 17,
     "metadata": {},
     "output_type": "execute_result"
    }
   ],
   "source": [
    "finishing_df[['team', 'team_enc']].head()"
   ]
  },
  {
   "cell_type": "code",
   "execution_count": 18,
   "id": "f7ac9c7e-df41-4b34-90ae-c0ebdb4adb84",
   "metadata": {},
   "outputs": [
    {
     "data": {
      "text/plain": [
       "styleChangeCount\n",
       "No Style Change    506\n",
       "Name: count, dtype: int64"
      ]
     },
     "execution_count": 18,
     "metadata": {},
     "output_type": "execute_result"
    }
   ],
   "source": [
    "finishing_df['styleChangeCount'].value_counts()"
   ]
  },
  {
   "cell_type": "markdown",
   "id": "7139a88b-7bb3-4332-b7ae-71e521c59dfc",
   "metadata": {},
   "source": [
    "#### One-Hot Encode dayOfWeek and styleChangeCount\n",
    "#### Why?\n",
    "#### These columns are categorical with no “order” one-hot encoding is the best way for most ML models to use them.\n",
    "#### This will create a new column for each unique value in these categories, with a 1 where that value is present and 0 elsewhere."
   ]
  },
  {
   "cell_type": "code",
   "execution_count": 19,
   "id": "76b809e9-06d5-40e7-a6da-2be63ca23ce3",
   "metadata": {},
   "outputs": [],
   "source": [
    "finishing_df = pd.get_dummies(\n",
    "    finishing_df, \n",
    "    columns=['dayOfWeek', 'styleChangeCount'],\n",
    "    prefix=['day', 'style'],\n",
    "    drop_first=True\n",
    ")"
   ]
  },
  {
   "cell_type": "code",
   "execution_count": 20,
   "id": "9ae31b5f-8332-4c25-9f78-1d404bd692dc",
   "metadata": {},
   "outputs": [
    {
     "data": {
      "text/html": [
       "<div>\n",
       "<style scoped>\n",
       "    .dataframe tbody tr th:only-of-type {\n",
       "        vertical-align: middle;\n",
       "    }\n",
       "\n",
       "    .dataframe tbody tr th {\n",
       "        vertical-align: top;\n",
       "    }\n",
       "\n",
       "    .dataframe thead th {\n",
       "        text-align: right;\n",
       "    }\n",
       "</style>\n",
       "<table border=\"1\" class=\"dataframe\">\n",
       "  <thead>\n",
       "    <tr style=\"text-align: right;\">\n",
       "      <th></th>\n",
       "      <th>team</th>\n",
       "      <th>plannedEfficiency</th>\n",
       "      <th>standardMinuteValue</th>\n",
       "      <th>overtimeMinutes</th>\n",
       "      <th>performanceBonus</th>\n",
       "      <th>idleMinutes</th>\n",
       "      <th>idleWorkers</th>\n",
       "      <th>workerCount</th>\n",
       "      <th>efficiencyScore</th>\n",
       "      <th>month</th>\n",
       "      <th>team_enc</th>\n",
       "      <th>day_Saturday</th>\n",
       "      <th>day_Sunday</th>\n",
       "      <th>day_Thursday</th>\n",
       "      <th>day_Tuesday</th>\n",
       "      <th>day_Wednesday</th>\n",
       "    </tr>\n",
       "  </thead>\n",
       "  <tbody>\n",
       "    <tr>\n",
       "      <th>2</th>\n",
       "      <td>Line-C2</td>\n",
       "      <td>0.8</td>\n",
       "      <td>2.90</td>\n",
       "      <td>1440</td>\n",
       "      <td>0</td>\n",
       "      <td>0.0</td>\n",
       "      <td>0</td>\n",
       "      <td>8.0</td>\n",
       "      <td>0.681061</td>\n",
       "      <td>1</td>\n",
       "      <td>1</td>\n",
       "      <td>False</td>\n",
       "      <td>False</td>\n",
       "      <td>False</td>\n",
       "      <td>True</td>\n",
       "      <td>False</td>\n",
       "    </tr>\n",
       "    <tr>\n",
       "      <th>3</th>\n",
       "      <td>Line-S2</td>\n",
       "      <td>0.7</td>\n",
       "      <td>3.90</td>\n",
       "      <td>960</td>\n",
       "      <td>0</td>\n",
       "      <td>0.0</td>\n",
       "      <td>0</td>\n",
       "      <td>8.0</td>\n",
       "      <td>0.325000</td>\n",
       "      <td>2</td>\n",
       "      <td>10</td>\n",
       "      <td>False</td>\n",
       "      <td>False</td>\n",
       "      <td>False</td>\n",
       "      <td>True</td>\n",
       "      <td>False</td>\n",
       "    </tr>\n",
       "    <tr>\n",
       "      <th>4</th>\n",
       "      <td>Line-C1</td>\n",
       "      <td>0.8</td>\n",
       "      <td>2.90</td>\n",
       "      <td>960</td>\n",
       "      <td>0</td>\n",
       "      <td>0.0</td>\n",
       "      <td>0</td>\n",
       "      <td>8.0</td>\n",
       "      <td>0.667604</td>\n",
       "      <td>1</td>\n",
       "      <td>0</td>\n",
       "      <td>False</td>\n",
       "      <td>True</td>\n",
       "      <td>False</td>\n",
       "      <td>False</td>\n",
       "      <td>False</td>\n",
       "    </tr>\n",
       "    <tr>\n",
       "      <th>6</th>\n",
       "      <td>Line-S1</td>\n",
       "      <td>0.5</td>\n",
       "      <td>3.94</td>\n",
       "      <td>3360</td>\n",
       "      <td>0</td>\n",
       "      <td>0.0</td>\n",
       "      <td>0</td>\n",
       "      <td>8.0</td>\n",
       "      <td>0.768847</td>\n",
       "      <td>2</td>\n",
       "      <td>9</td>\n",
       "      <td>False</td>\n",
       "      <td>False</td>\n",
       "      <td>True</td>\n",
       "      <td>False</td>\n",
       "      <td>False</td>\n",
       "    </tr>\n",
       "    <tr>\n",
       "      <th>7</th>\n",
       "      <td>Line-S1</td>\n",
       "      <td>0.5</td>\n",
       "      <td>3.94</td>\n",
       "      <td>3360</td>\n",
       "      <td>0</td>\n",
       "      <td>0.0</td>\n",
       "      <td>0</td>\n",
       "      <td>8.0</td>\n",
       "      <td>0.768847</td>\n",
       "      <td>2</td>\n",
       "      <td>9</td>\n",
       "      <td>True</td>\n",
       "      <td>False</td>\n",
       "      <td>False</td>\n",
       "      <td>False</td>\n",
       "      <td>False</td>\n",
       "    </tr>\n",
       "  </tbody>\n",
       "</table>\n",
       "</div>"
      ],
      "text/plain": [
       "      team  plannedEfficiency  standardMinuteValue  overtimeMinutes  \\\n",
       "2  Line-C2                0.8                 2.90             1440   \n",
       "3  Line-S2                0.7                 3.90              960   \n",
       "4  Line-C1                0.8                 2.90              960   \n",
       "6  Line-S1                0.5                 3.94             3360   \n",
       "7  Line-S1                0.5                 3.94             3360   \n",
       "\n",
       "   performanceBonus  idleMinutes  idleWorkers  workerCount  efficiencyScore  \\\n",
       "2                 0          0.0            0          8.0         0.681061   \n",
       "3                 0          0.0            0          8.0         0.325000   \n",
       "4                 0          0.0            0          8.0         0.667604   \n",
       "6                 0          0.0            0          8.0         0.768847   \n",
       "7                 0          0.0            0          8.0         0.768847   \n",
       "\n",
       "   month  team_enc  day_Saturday  day_Sunday  day_Thursday  day_Tuesday  \\\n",
       "2      1         1         False       False         False         True   \n",
       "3      2        10         False       False         False         True   \n",
       "4      1         0         False        True         False        False   \n",
       "6      2         9         False       False          True        False   \n",
       "7      2         9          True       False         False        False   \n",
       "\n",
       "   day_Wednesday  \n",
       "2          False  \n",
       "3          False  \n",
       "4          False  \n",
       "6          False  \n",
       "7          False  "
      ]
     },
     "execution_count": 20,
     "metadata": {},
     "output_type": "execute_result"
    }
   ],
   "source": [
    "finishing_df.head()"
   ]
  },
  {
   "cell_type": "code",
   "execution_count": 21,
   "id": "8de34bb8-f072-45b4-86b0-71f2c6595411",
   "metadata": {},
   "outputs": [
    {
     "data": {
      "text/plain": [
       "(506, 16)"
      ]
     },
     "execution_count": 21,
     "metadata": {},
     "output_type": "execute_result"
    }
   ],
   "source": [
    "finishing_df.shape"
   ]
  },
  {
   "cell_type": "markdown",
   "id": "ad4574bb-139c-4bbf-ac1b-005df33d869e",
   "metadata": {},
   "source": [
    "#### No subset column was printed for styleChangeCount because it has only one unique value (e.g., all \"No Style Change\"), pd.get_dummies() will not create any columns for it (or only one, which is dropped if drop_first=True). "
   ]
  },
  {
   "cell_type": "code",
   "execution_count": 22,
   "id": "c99c514a-9d75-4ad5-96d2-5e90b585c550",
   "metadata": {},
   "outputs": [
    {
     "data": {
      "text/html": [
       "<div>\n",
       "<style scoped>\n",
       "    .dataframe tbody tr th:only-of-type {\n",
       "        vertical-align: middle;\n",
       "    }\n",
       "\n",
       "    .dataframe tbody tr th {\n",
       "        vertical-align: top;\n",
       "    }\n",
       "\n",
       "    .dataframe thead th {\n",
       "        text-align: right;\n",
       "    }\n",
       "</style>\n",
       "<table border=\"1\" class=\"dataframe\">\n",
       "  <thead>\n",
       "    <tr style=\"text-align: right;\">\n",
       "      <th></th>\n",
       "      <th>plannedEfficiency</th>\n",
       "      <th>standardMinuteValue</th>\n",
       "      <th>overtimeMinutes</th>\n",
       "      <th>performanceBonus</th>\n",
       "      <th>idleMinutes</th>\n",
       "      <th>idleWorkers</th>\n",
       "      <th>workerCount</th>\n",
       "      <th>efficiencyScore</th>\n",
       "      <th>month</th>\n",
       "      <th>team_enc</th>\n",
       "    </tr>\n",
       "  </thead>\n",
       "  <tbody>\n",
       "    <tr>\n",
       "      <th>count</th>\n",
       "      <td>506.000000</td>\n",
       "      <td>506.000000</td>\n",
       "      <td>506.000000</td>\n",
       "      <td>506.000000</td>\n",
       "      <td>506.0</td>\n",
       "      <td>506.0</td>\n",
       "      <td>506.000000</td>\n",
       "      <td>506.000000</td>\n",
       "      <td>506.000000</td>\n",
       "      <td>506.000000</td>\n",
       "    </tr>\n",
       "    <tr>\n",
       "      <th>mean</th>\n",
       "      <td>0.737352</td>\n",
       "      <td>3.887036</td>\n",
       "      <td>1917.154150</td>\n",
       "      <td>29.644269</td>\n",
       "      <td>0.0</td>\n",
       "      <td>0.0</td>\n",
       "      <td>10.252964</td>\n",
       "      <td>0.752951</td>\n",
       "      <td>1.727273</td>\n",
       "      <td>5.551383</td>\n",
       "    </tr>\n",
       "    <tr>\n",
       "      <th>std</th>\n",
       "      <td>0.091512</td>\n",
       "      <td>0.594110</td>\n",
       "      <td>1776.698408</td>\n",
       "      <td>244.130042</td>\n",
       "      <td>0.0</td>\n",
       "      <td>0.0</td>\n",
       "      <td>4.007819</td>\n",
       "      <td>0.197021</td>\n",
       "      <td>0.763478</td>\n",
       "      <td>3.541875</td>\n",
       "    </tr>\n",
       "    <tr>\n",
       "      <th>min</th>\n",
       "      <td>0.350000</td>\n",
       "      <td>2.900000</td>\n",
       "      <td>0.000000</td>\n",
       "      <td>0.000000</td>\n",
       "      <td>0.0</td>\n",
       "      <td>0.0</td>\n",
       "      <td>2.000000</td>\n",
       "      <td>0.235795</td>\n",
       "      <td>1.000000</td>\n",
       "      <td>0.000000</td>\n",
       "    </tr>\n",
       "    <tr>\n",
       "      <th>25%</th>\n",
       "      <td>0.700000</td>\n",
       "      <td>3.900000</td>\n",
       "      <td>960.000000</td>\n",
       "      <td>0.000000</td>\n",
       "      <td>0.0</td>\n",
       "      <td>0.0</td>\n",
       "      <td>8.000000</td>\n",
       "      <td>0.631606</td>\n",
       "      <td>1.000000</td>\n",
       "      <td>2.000000</td>\n",
       "    </tr>\n",
       "    <tr>\n",
       "      <th>50%</th>\n",
       "      <td>0.750000</td>\n",
       "      <td>3.940000</td>\n",
       "      <td>1440.000000</td>\n",
       "      <td>0.000000</td>\n",
       "      <td>0.0</td>\n",
       "      <td>0.0</td>\n",
       "      <td>8.000000</td>\n",
       "      <td>0.805909</td>\n",
       "      <td>2.000000</td>\n",
       "      <td>6.000000</td>\n",
       "    </tr>\n",
       "    <tr>\n",
       "      <th>75%</th>\n",
       "      <td>0.800000</td>\n",
       "      <td>4.150000</td>\n",
       "      <td>1920.000000</td>\n",
       "      <td>0.000000</td>\n",
       "      <td>0.0</td>\n",
       "      <td>0.0</td>\n",
       "      <td>11.750000</td>\n",
       "      <td>0.906364</td>\n",
       "      <td>2.000000</td>\n",
       "      <td>9.000000</td>\n",
       "    </tr>\n",
       "    <tr>\n",
       "      <th>max</th>\n",
       "      <td>0.800000</td>\n",
       "      <td>5.130000</td>\n",
       "      <td>15000.000000</td>\n",
       "      <td>3600.000000</td>\n",
       "      <td>0.0</td>\n",
       "      <td>0.0</td>\n",
       "      <td>28.000000</td>\n",
       "      <td>1.120437</td>\n",
       "      <td>3.000000</td>\n",
       "      <td>11.000000</td>\n",
       "    </tr>\n",
       "  </tbody>\n",
       "</table>\n",
       "</div>"
      ],
      "text/plain": [
       "       plannedEfficiency  standardMinuteValue  overtimeMinutes  \\\n",
       "count         506.000000           506.000000       506.000000   \n",
       "mean            0.737352             3.887036      1917.154150   \n",
       "std             0.091512             0.594110      1776.698408   \n",
       "min             0.350000             2.900000         0.000000   \n",
       "25%             0.700000             3.900000       960.000000   \n",
       "50%             0.750000             3.940000      1440.000000   \n",
       "75%             0.800000             4.150000      1920.000000   \n",
       "max             0.800000             5.130000     15000.000000   \n",
       "\n",
       "       performanceBonus  idleMinutes  idleWorkers  workerCount  \\\n",
       "count        506.000000        506.0        506.0   506.000000   \n",
       "mean          29.644269          0.0          0.0    10.252964   \n",
       "std          244.130042          0.0          0.0     4.007819   \n",
       "min            0.000000          0.0          0.0     2.000000   \n",
       "25%            0.000000          0.0          0.0     8.000000   \n",
       "50%            0.000000          0.0          0.0     8.000000   \n",
       "75%            0.000000          0.0          0.0    11.750000   \n",
       "max         3600.000000          0.0          0.0    28.000000   \n",
       "\n",
       "       efficiencyScore       month    team_enc  \n",
       "count       506.000000  506.000000  506.000000  \n",
       "mean          0.752951    1.727273    5.551383  \n",
       "std           0.197021    0.763478    3.541875  \n",
       "min           0.235795    1.000000    0.000000  \n",
       "25%           0.631606    1.000000    2.000000  \n",
       "50%           0.805909    2.000000    6.000000  \n",
       "75%           0.906364    2.000000    9.000000  \n",
       "max           1.120437    3.000000   11.000000  "
      ]
     },
     "execution_count": 22,
     "metadata": {},
     "output_type": "execute_result"
    }
   ],
   "source": [
    "finishing_df.describe()"
   ]
  },
  {
   "cell_type": "markdown",
   "id": "955b2151-0b85-4b12-b78b-cd7a3c1fbe09",
   "metadata": {},
   "source": [
    "### Adding New Features"
   ]
  },
  {
   "cell_type": "code",
   "execution_count": 23,
   "id": "d7d87b26-be8d-439d-ad3e-2ac9cb7539fa",
   "metadata": {},
   "outputs": [
    {
     "name": "stdout",
     "output_type": "stream",
     "text": [
      "       efficiencyPerWorker  bonusPerWorker\n",
      "count           506.000000      506.000000\n",
      "mean              0.082271        2.845850\n",
      "std               0.046159       21.168909\n",
      "min               0.014352        0.000000\n",
      "25%               0.057704        0.000000\n",
      "50%               0.080056        0.000000\n",
      "75%               0.099218        0.000000\n",
      "max               0.485933      240.000000\n"
     ]
    }
   ],
   "source": [
    "finishing_df['efficiencyPerWorker'] = finishing_df['efficiencyScore'] / finishing_df['workerCount']\n",
    "finishing_df['bonusPerWorker'] = finishing_df['performanceBonus'] / finishing_df['workerCount']\n",
    "print(finishing_df[['efficiencyPerWorker', 'bonusPerWorker']].describe())"
   ]
  },
  {
   "cell_type": "markdown",
   "id": "6b39b979-9c0c-45a1-9936-3711b8c0cc21",
   "metadata": {},
   "source": [
    "### Feature Scaling (Min Max Scaling)"
   ]
  },
  {
   "cell_type": "code",
   "execution_count": 24,
   "id": "2cc0ab4c-0af4-433d-b7d2-ae7df70f820f",
   "metadata": {},
   "outputs": [
    {
     "data": {
      "text/html": [
       "<div>\n",
       "<style scoped>\n",
       "    .dataframe tbody tr th:only-of-type {\n",
       "        vertical-align: middle;\n",
       "    }\n",
       "\n",
       "    .dataframe tbody tr th {\n",
       "        vertical-align: top;\n",
       "    }\n",
       "\n",
       "    .dataframe thead th {\n",
       "        text-align: right;\n",
       "    }\n",
       "</style>\n",
       "<table border=\"1\" class=\"dataframe\">\n",
       "  <thead>\n",
       "    <tr style=\"text-align: right;\">\n",
       "      <th></th>\n",
       "      <th>standardMinuteValue</th>\n",
       "      <th>overtimeMinutes</th>\n",
       "      <th>performanceBonus</th>\n",
       "      <th>workerCount</th>\n",
       "      <th>efficiencyScore</th>\n",
       "      <th>month</th>\n",
       "    </tr>\n",
       "  </thead>\n",
       "  <tbody>\n",
       "    <tr>\n",
       "      <th>count</th>\n",
       "      <td>506.000000</td>\n",
       "      <td>506.000000</td>\n",
       "      <td>506.000000</td>\n",
       "      <td>506.000000</td>\n",
       "      <td>506.000000</td>\n",
       "      <td>506.000000</td>\n",
       "    </tr>\n",
       "    <tr>\n",
       "      <th>mean</th>\n",
       "      <td>0.442617</td>\n",
       "      <td>0.127810</td>\n",
       "      <td>0.008235</td>\n",
       "      <td>0.317422</td>\n",
       "      <td>0.584593</td>\n",
       "      <td>0.363636</td>\n",
       "    </tr>\n",
       "    <tr>\n",
       "      <th>std</th>\n",
       "      <td>0.266417</td>\n",
       "      <td>0.118447</td>\n",
       "      <td>0.067814</td>\n",
       "      <td>0.154147</td>\n",
       "      <td>0.222713</td>\n",
       "      <td>0.381739</td>\n",
       "    </tr>\n",
       "    <tr>\n",
       "      <th>min</th>\n",
       "      <td>0.000000</td>\n",
       "      <td>0.000000</td>\n",
       "      <td>0.000000</td>\n",
       "      <td>0.000000</td>\n",
       "      <td>0.000000</td>\n",
       "      <td>0.000000</td>\n",
       "    </tr>\n",
       "    <tr>\n",
       "      <th>25%</th>\n",
       "      <td>0.448430</td>\n",
       "      <td>0.064000</td>\n",
       "      <td>0.000000</td>\n",
       "      <td>0.230769</td>\n",
       "      <td>0.447424</td>\n",
       "      <td>0.000000</td>\n",
       "    </tr>\n",
       "    <tr>\n",
       "      <th>50%</th>\n",
       "      <td>0.466368</td>\n",
       "      <td>0.096000</td>\n",
       "      <td>0.000000</td>\n",
       "      <td>0.230769</td>\n",
       "      <td>0.644457</td>\n",
       "      <td>0.500000</td>\n",
       "    </tr>\n",
       "    <tr>\n",
       "      <th>75%</th>\n",
       "      <td>0.560538</td>\n",
       "      <td>0.128000</td>\n",
       "      <td>0.000000</td>\n",
       "      <td>0.375000</td>\n",
       "      <td>0.758011</td>\n",
       "      <td>0.500000</td>\n",
       "    </tr>\n",
       "    <tr>\n",
       "      <th>max</th>\n",
       "      <td>1.000000</td>\n",
       "      <td>1.000000</td>\n",
       "      <td>1.000000</td>\n",
       "      <td>1.000000</td>\n",
       "      <td>1.000000</td>\n",
       "      <td>1.000000</td>\n",
       "    </tr>\n",
       "  </tbody>\n",
       "</table>\n",
       "</div>"
      ],
      "text/plain": [
       "       standardMinuteValue  overtimeMinutes  performanceBonus  workerCount  \\\n",
       "count           506.000000       506.000000        506.000000   506.000000   \n",
       "mean              0.442617         0.127810          0.008235     0.317422   \n",
       "std               0.266417         0.118447          0.067814     0.154147   \n",
       "min               0.000000         0.000000          0.000000     0.000000   \n",
       "25%               0.448430         0.064000          0.000000     0.230769   \n",
       "50%               0.466368         0.096000          0.000000     0.230769   \n",
       "75%               0.560538         0.128000          0.000000     0.375000   \n",
       "max               1.000000         1.000000          1.000000     1.000000   \n",
       "\n",
       "       efficiencyScore       month  \n",
       "count       506.000000  506.000000  \n",
       "mean          0.584593    0.363636  \n",
       "std           0.222713    0.381739  \n",
       "min           0.000000    0.000000  \n",
       "25%           0.447424    0.000000  \n",
       "50%           0.644457    0.500000  \n",
       "75%           0.758011    0.500000  \n",
       "max           1.000000    1.000000  "
      ]
     },
     "execution_count": 24,
     "metadata": {},
     "output_type": "execute_result"
    }
   ],
   "source": [
    "from sklearn.preprocessing import MinMaxScaler\n",
    "\n",
    "minmax_features = ['standardMinuteValue', 'overtimeMinutes', 'performanceBonus', 'workerCount', 'efficiencyScore', 'month']\n",
    "\n",
    "scaler_finish = MinMaxScaler()\n",
    "finishing_df[minmax_features] = scaler_finish.fit_transform(finishing_df[minmax_features])\n",
    "\n",
    "finishing_df[minmax_features].describe()"
   ]
  },
  {
   "cell_type": "markdown",
   "id": "27fffb65-9ad9-4945-8a5b-fd45bdb68115",
   "metadata": {},
   "source": [
    "## Select Features and Prepare Train/Test Data"
   ]
  },
  {
   "cell_type": "code",
   "execution_count": 25,
   "id": "a4dac016-cdd6-4de0-ab9e-42e6927dad03",
   "metadata": {},
   "outputs": [
    {
     "name": "stdout",
     "output_type": "stream",
     "text": [
      "Finishing shapes: (404, 12) (102, 12)\n"
     ]
    }
   ],
   "source": [
    "from sklearn.model_selection import train_test_split\n",
    "\n",
    "features = [\n",
    "    'plannedEfficiency', 'standardMinuteValue', 'overtimeMinutes', 'performanceBonus',\n",
    "    'workerCount', 'month', 'team_enc', 'day_Saturday', 'day_Sunday', 'day_Thursday',\n",
    "    'day_Tuesday', 'day_Wednesday'\n",
    "]\n",
    "target = 'efficiencyScore'\n",
    "\n",
    "X_finish = finishing_df[features]\n",
    "y_finish = finishing_df[target]\n",
    "\n",
    "X_train_finish, X_test_finish, y_train_finish, y_test_finish = train_test_split(\n",
    "    X_finish, y_finish, test_size=0.2, random_state=42\n",
    ")\n",
    "\n",
    "print(\"Finishing shapes:\", X_train_finish.shape, X_test_finish.shape)"
   ]
  },
  {
   "cell_type": "markdown",
   "id": "21ebc59e-d0e4-4d53-b047-6884caefe85b",
   "metadata": {},
   "source": [
    "## Linear Regression Model"
   ]
  },
  {
   "cell_type": "code",
   "execution_count": 26,
   "id": "47f161e6-a2c6-401d-bc6e-73de036b8eac",
   "metadata": {},
   "outputs": [
    {
     "name": "stdout",
     "output_type": "stream",
     "text": [
      "Finishing - Linear Regression\n",
      "R^2: 0.24598247777859228\n",
      "MSE: 0.03447849269394912\n",
      "MAE: 0.14406394553777438\n"
     ]
    }
   ],
   "source": [
    "from sklearn.linear_model import LinearRegression\n",
    "from sklearn.metrics import r2_score, mean_squared_error, mean_absolute_error\n",
    "\n",
    "# Train\n",
    "lr_finish = LinearRegression()\n",
    "lr_finish.fit(X_train_finish, y_train_finish)\n",
    "\n",
    "# Predict\n",
    "y_pred_finish = lr_finish.predict(X_test_finish)\n",
    "\n",
    "# Evaluate\n",
    "print(\"Finishing - Linear Regression\")\n",
    "print(\"R^2:\", r2_score(y_test_finish, y_pred_finish))\n",
    "print(\"MSE:\", mean_squared_error(y_test_finish, y_pred_finish))\n",
    "print(\"MAE:\", mean_absolute_error(y_test_finish, y_pred_finish))"
   ]
  },
  {
   "cell_type": "markdown",
   "id": "6bf1d51d-efe6-459d-8d62-1eaff72df800",
   "metadata": {},
   "source": [
    "## Random Forest"
   ]
  },
  {
   "cell_type": "code",
   "execution_count": 27,
   "id": "42ede6e3-fd3d-464e-b669-5710905d683e",
   "metadata": {},
   "outputs": [
    {
     "name": "stdout",
     "output_type": "stream",
     "text": [
      "Finishing - Random Forest\n",
      "R^2: 0.2049083049531486\n",
      "MSE: 0.036356665980293815\n",
      "MAE: 0.14154802349534684\n"
     ]
    }
   ],
   "source": [
    "from sklearn.ensemble import RandomForestRegressor\n",
    "from sklearn.metrics import r2_score, mean_squared_error, mean_absolute_error\n",
    "\n",
    "rf_finish = RandomForestRegressor(random_state=42)\n",
    "rf_finish.fit(X_train_finish, y_train_finish)\n",
    "\n",
    "y_pred_finish_rf = rf_finish.predict(X_test_finish)\n",
    "\n",
    "print(\"Finishing - Random Forest\")\n",
    "print(\"R^2:\", r2_score(y_test_finish, y_pred_finish_rf))\n",
    "print(\"MSE:\", mean_squared_error(y_test_finish, y_pred_finish_rf))\n",
    "print(\"MAE:\", mean_absolute_error(y_test_finish, y_pred_finish_rf))"
   ]
  },
  {
   "cell_type": "markdown",
   "id": "d4936ce7-2c13-4a5f-9510-358178bbd267",
   "metadata": {},
   "source": [
    "## Gradient Boosting"
   ]
  },
  {
   "cell_type": "code",
   "execution_count": 28,
   "id": "b38d74a4-63f7-4ddc-a463-fe70eadae138",
   "metadata": {},
   "outputs": [
    {
     "name": "stdout",
     "output_type": "stream",
     "text": [
      "Finishing - Gradient Boosting\n",
      "R^2: 0.30735227798499565\n",
      "MSE: 0.03167227381217587\n",
      "MAE: 0.13646412762495638\n"
     ]
    }
   ],
   "source": [
    "from sklearn.ensemble import GradientBoostingRegressor\n",
    "from sklearn.metrics import r2_score, mean_squared_error, mean_absolute_error\n",
    "\n",
    "gb_finish = GradientBoostingRegressor(random_state=42)\n",
    "gb_finish.fit(X_train_finish, y_train_finish)\n",
    "y_pred_finish_gb = gb_finish.predict(X_test_finish)\n",
    "\n",
    "print(\"Finishing - Gradient Boosting\")\n",
    "print(\"R^2:\", r2_score(y_test_finish, y_pred_finish_gb))\n",
    "print(\"MSE:\", mean_squared_error(y_test_finish, y_pred_finish_gb))\n",
    "print(\"MAE:\", mean_absolute_error(y_test_finish, y_pred_finish_gb))"
   ]
  },
  {
   "cell_type": "markdown",
   "id": "1347898f-c5c9-43fa-95ff-fec8291e6071",
   "metadata": {},
   "source": [
    "#### Insights:\n",
    "##### Overall performance is lower than Stitching, with R² below 0.31 for all models.\n",
    "##### Gradient Boosting is the best for Finishing, achieving the highest R² (0.31), lowest MSE (0.0317), and lowest MAE (0.1365).\n",
    "##### Random Forest and Linear Regression perform similarly, but both are outperformed by Gradient Boosting on this dataset."
   ]
  },
  {
   "cell_type": "markdown",
   "id": "cac57524-4e43-47c3-be3c-720111039628",
   "metadata": {},
   "source": [
    "## Feature Importance for the Best Models"
   ]
  },
  {
   "cell_type": "markdown",
   "id": "4680d8c6-ff6a-4a11-a934-bf0364b8e9c9",
   "metadata": {},
   "source": [
    "### Finishing: Gradient Boosting"
   ]
  },
  {
   "cell_type": "code",
   "execution_count": 29,
   "id": "cf5618ab-f177-42b7-accf-d9c020fb6b5b",
   "metadata": {},
   "outputs": [
    {
     "name": "stdout",
     "output_type": "stream",
     "text": [
      "Finishing - Gradient Boosting Feature Importances:\n",
      "workerCount            0.284730\n",
      "overtimeMinutes        0.184479\n",
      "standardMinuteValue    0.158255\n",
      "team_enc               0.116562\n",
      "plannedEfficiency      0.090022\n",
      "month                  0.061316\n",
      "day_Thursday           0.035813\n",
      "day_Wednesday          0.023788\n",
      "day_Saturday           0.018788\n",
      "day_Sunday             0.017303\n",
      "day_Tuesday            0.005426\n",
      "performanceBonus       0.003517\n",
      "dtype: float64\n"
     ]
    },
    {
     "data": {
      "image/png": "[encoded data removed]",
      "text/plain": [
       "<Figure size 1000x500 with 1 Axes>"
      ]
     },
     "metadata": {},
     "output_type": "display_data"
    }
   ],
   "source": [
    "import pandas as pd\n",
    "import matplotlib.pyplot as plt\n",
    "\n",
    "gb_importances = pd.Series(gb_finish.feature_importances_, index=X_train_finish.columns).sort_values(ascending=False)\n",
    "\n",
    "print(\"Finishing - Gradient Boosting Feature Importances:\")\n",
    "print(gb_importances)\n",
    "\n",
    "gb_importances.plot(kind='bar', figsize=(10, 5), title='Finishing - Gradient Boosting Feature Importances')\n",
    "plt.ylabel(\"Importance Score\")\n",
    "plt.tight_layout()\n",
    "plt.show()"
   ]
  },
  {
   "cell_type": "markdown",
   "id": "6ae1af29-9cf0-4635-96c5-f5eaab50327d",
   "metadata": {},
   "source": [
    "## Hyperparameter Tuning (Gradient Boosting)"
   ]
  },
  {
   "cell_type": "code",
   "execution_count": 31,
   "id": "5ad1a1eb-8119-4128-b681-3f62e0ab6bd0",
   "metadata": {},
   "outputs": [
    {
     "name": "stdout",
     "output_type": "stream",
     "text": [
      "Fitting 5 folds for each of 32 candidates, totalling 160 fits\n",
      "Test R² (tuned): 0.3066225217638775\n",
      "Test MSE (tuned): 0.03170564292336583\n",
      "Test MAE (tuned): 0.13307137441825967\n"
     ]
    }
   ],
   "source": [
    "from sklearn.model_selection import GridSearchCV\n",
    "from sklearn.ensemble import GradientBoostingRegressor\n",
    "\n",
    "param_grid_gb = {\n",
    "    'n_estimators': [100, 200],\n",
    "    'learning_rate': [0.05, 0.1],\n",
    "    'max_depth': [4, 5],\n",
    "    'subsample': [0.8, 1.0],\n",
    "    'min_samples_split': [2, 5]\n",
    "}\n",
    "\n",
    "gb = GradientBoostingRegressor(random_state=42)\n",
    "grid_gb = GridSearchCV(gb, param_grid_gb, cv=5, scoring='r2', n_jobs=-1, verbose=2)\n",
    "grid_gb.fit(X_train_finish, y_train_finish)\n",
    "\n",
    "\n",
    "y_pred_gb_best = grid_gb.predict(X_test_finish)\n",
    "from sklearn.metrics import r2_score, mean_squared_error, mean_absolute_error\n",
    "print(\"Test R² (tuned):\", r2_score(y_test_finish, y_pred_gb_best))\n",
    "print(\"Test MSE (tuned):\", mean_squared_error(y_test_finish, y_pred_gb_best))\n",
    "print(\"Test MAE (tuned):\", mean_absolute_error(y_test_finish, y_pred_gb_best))"
   ]
  },
  {
   "cell_type": "code",
   "execution_count": 33,
   "id": "ba9c68e0-a43e-48d5-942e-c88efb1a1688",
   "metadata": {},
   "outputs": [
    {
     "name": "stdout",
     "output_type": "stream",
     "text": [
      "{'learning_rate': 0.05, 'max_depth': 4, 'min_samples_split': 2, 'n_estimators': 100, 'subsample': 0.8}\n"
     ]
    }
   ],
   "source": [
    "print(grid_gb.best_params_)"
   ]
  }
 ],
 "metadata": {
  "kernelspec": {
   "display_name": "Python 3 (ipykernel)",
   "language": "python",
   "name": "python3"
  },
  "language_info": {
   "codemirror_mode": {
    "name": "ipython",
    "version": 3
   },
   "file_extension": ".py",
   "mimetype": "text/x-python",
   "name": "python",
   "nbconvert_exporter": "python",
   "pygments_lexer": "ipython3",
   "version": "3.12.7"
  }
 },
 "nbformat": 4,
 "nbformat_minor": 5
}
